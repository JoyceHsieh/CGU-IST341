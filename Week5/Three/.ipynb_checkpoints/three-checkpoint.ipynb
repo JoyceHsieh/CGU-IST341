{
 "cells": [
  {
   "cell_type": "code",
   "execution_count": 7,
   "metadata": {},
   "outputs": [],
   "source": [
    "from PIL import Image"
   ]
  },
  {
   "cell_type": "code",
   "execution_count": 8,
   "metadata": {},
   "outputs": [],
   "source": [
    "im = Image.open( \"P1.png\" )"
   ]
  },
  {
   "cell_type": "code",
   "execution_count": 9,
   "metadata": {},
   "outputs": [
    {
     "name": "stdout",
     "output_type": "stream",
     "text": [
      "im is of size (104, 130)\n"
     ]
    }
   ],
   "source": [
    "print(\"im is of size\", im.size)"
   ]
  },
  {
   "cell_type": "code",
   "execution_count": 10,
   "metadata": {},
   "outputs": [],
   "source": [
    "im_resized = im.resize( (8,8), Image.BICUBIC )"
   ]
  },
  {
   "cell_type": "code",
   "execution_count": 11,
   "metadata": {},
   "outputs": [],
   "source": [
    "ir = im_resized"
   ]
  },
  {
   "cell_type": "code",
   "execution_count": 12,
   "metadata": {},
   "outputs": [
    {
     "name": "stdout",
     "output_type": "stream",
     "text": [
      "0,3,8,10,10,9,2,0,0,9,8,4,3,9,11,0,0,0,0,0,2,11,6,0,0,3,6,9,14,14,6,0,0,5,8,5,3,3,12,5,0,0,0,0,0,0,10,8,2,8,3,3,5,9,11,2,1,8,11,11,9,6,1,0,"
     ]
    }
   ],
   "source": [
    "i_0=[]\n",
    "for row in range(8):\n",
    "    for col in range(8):\n",
    "        r, g, b, a = ir.getpixel( (col,row) )\n",
    "        r = (256-r)//16\n",
    "        pixstring = \"{0:3d} \".format(r)  # cool Python formatting!\n",
    "        i_0=i_0+[r]\n",
    "        print( r, end=\",\")\n",
    "#     print()   # if you want to see the 64 values as an 8x8 array "
   ]
  },
  {
   "cell_type": "code",
   "execution_count": 13,
   "metadata": {},
   "outputs": [
    {
     "name": "stdout",
     "output_type": "stream",
     "text": [
      "[0, 3, 8, 10, 10, 9, 2, 0, 0, 9, 8, 4, 3, 9, 11, 0, 0, 0, 0, 0, 2, 11, 6, 0, 0, 3, 6, 9, 14, 14, 6, 0, 0, 5, 8, 5, 3, 3, 12, 5, 0, 0, 0, 0, 0, 0, 10, 8, 2, 8, 3, 3, 5, 9, 11, 2, 1, 8, 11, 11, 9, 6, 1, 0]"
     ]
    }
   ],
   "source": [
    "print(i_0, end='')"
   ]
  },
  {
   "cell_type": "code",
   "execution_count": 14,
   "metadata": {},
   "outputs": [
    {
     "name": "stdout",
     "output_type": "stream",
     "text": [
      "am is of size (104, 130)\n"
     ]
    }
   ],
   "source": [
    "am = Image.open( \"P2.png\" )\n",
    "print(\"am is of size\", im.size)\n",
    "am_resized = am.resize( (8,8), Image.BICUBIC )\n",
    "ar = am_resized"
   ]
  },
  {
   "cell_type": "code",
   "execution_count": 15,
   "metadata": {},
   "outputs": [
    {
     "name": "stdout",
     "output_type": "stream",
     "text": [
      "0,2,9,10,10,7,1,0,0,1,6,4,5,15,4,0,0,0,0,2,11,11,1,0,0,2,10,14,14,11,12,4,0,1,5,2,1,1,13,6,0,0,0,0,1,11,10,0,5,6,3,7,12,8,0,0,4,11,11,8,3,0,0,0,"
     ]
    }
   ],
   "source": [
    "i_1=[]\n",
    "for row in range(8):\n",
    "    for col in range(8):\n",
    "        r, g, b, a = ar.getpixel( (col,row) )\n",
    "        r = (256-r)//16\n",
    "        pixstring = \"{0:3d} \".format(r)  # cool Python formatting!\n",
    "        i_1=i_1+[r]\n",
    "        print( r, end=\",\")\n",
    "#     print()   # if you want to see the 64 values as an 8x8 array "
   ]
  },
  {
   "cell_type": "code",
   "execution_count": 16,
   "metadata": {},
   "outputs": [
    {
     "name": "stdout",
     "output_type": "stream",
     "text": [
      "[0, 2, 9, 10, 10, 7, 1, 0, 0, 1, 6, 4, 5, 15, 4, 0, 0, 0, 0, 2, 11, 11, 1, 0, 0, 2, 10, 14, 14, 11, 12, 4, 0, 1, 5, 2, 1, 1, 13, 6, 0, 0, 0, 0, 1, 11, 10, 0, 5, 6, 3, 7, 12, 8, 0, 0, 4, 11, 11, 8, 3, 0, 0, 0]"
     ]
    }
   ],
   "source": [
    "print(i_1, end='')"
   ]
  },
  {
   "cell_type": "code",
   "execution_count": 17,
   "metadata": {},
   "outputs": [
    {
     "name": "stdout",
     "output_type": "stream",
     "text": [
      "bm is of size (104, 130)\n"
     ]
    }
   ],
   "source": [
    "bm = Image.open( \"P3.png\" )\n",
    "print(\"bm is of size\", im.size)\n",
    "bm_resized = bm.resize( (8,8), Image.BICUBIC )\n",
    "br = bm_resized"
   ]
  },
  {
   "cell_type": "code",
   "execution_count": 18,
   "metadata": {},
   "outputs": [
    {
     "name": "stdout",
     "output_type": "stream",
     "text": [
      "0,0,2,11,6,0,0,0,0,0,1,6,14,5,0,0,0,0,0,2,13,5,0,0,1,8,10,15,16,11,7,1,2,10,8,5,5,6,14,5,0,0,0,0,0,6,13,2,0,3,5,4,11,13,3,0,0,3,13,13,8,1,0,0,"
     ]
    }
   ],
   "source": [
    "i_2=[]\n",
    "for row in range(8):\n",
    "    for col in range(8):\n",
    "        r, g, b, a = br.getpixel( (col,row) )\n",
    "        r = (256-r)//16\n",
    "        pixstring = \"{0:3d} \".format(r)  # cool Python formatting!\n",
    "        i_2=i_2+[r]\n",
    "        print( r, end=\",\")\n",
    "#     print()   # if you want to see the 64 values as an 8x8 array "
   ]
  },
  {
   "cell_type": "code",
   "execution_count": 19,
   "metadata": {},
   "outputs": [
    {
     "name": "stdout",
     "output_type": "stream",
     "text": [
      "[0, 0, 2, 11, 6, 0, 0, 0, 0, 0, 1, 6, 14, 5, 0, 0, 0, 0, 0, 2, 13, 5, 0, 0, 1, 8, 10, 15, 16, 11, 7, 1, 2, 10, 8, 5, 5, 6, 14, 5, 0, 0, 0, 0, 0, 6, 13, 2, 0, 3, 5, 4, 11, 13, 3, 0, 0, 3, 13, 13, 8, 1, 0, 0]"
     ]
    }
   ],
   "source": [
    "print(i_2, end='')"
   ]
  },
  {
   "cell_type": "code",
   "execution_count": 20,
   "metadata": {},
   "outputs": [
    {
     "name": "stdout",
     "output_type": "stream",
     "text": [
      "cm is of size (104, 130)\n"
     ]
    }
   ],
   "source": [
    "cm = Image.open( \"P4.png\" )\n",
    "print(\"cm is of size\", im.size)\n",
    "cm_resized = cm.resize( (8,8), Image.BICUBIC )\n",
    "cr = cm_resized"
   ]
  },
  {
   "cell_type": "code",
   "execution_count": 21,
   "metadata": {},
   "outputs": [
    {
     "name": "stdout",
     "output_type": "stream",
     "text": [
      "0,3,13,10,3,0,0,0,0,1,3,8,14,2,0,0,0,0,1,7,16,8,4,0,8,12,14,12,10,10,14,7,9,7,3,0,0,0,13,7,0,0,0,0,1,11,11,0,0,0,3,5,12,11,1,0,0,1,12,12,6,0,0,0,"
     ]
    }
   ],
   "source": [
    "i_3=[]\n",
    "for row in range(8):\n",
    "    for col in range(8):\n",
    "        r, g, b, a = cr.getpixel( (col,row) )\n",
    "        r = (256-r)//16\n",
    "        pixstring = \"{0:3d} \".format(r)  # cool Python formatting!\n",
    "        i_3=i_3+[r]\n",
    "        print( r, end=\",\")\n",
    "#     print()   # if you want to see the 64 values as an 8x8 array "
   ]
  },
  {
   "cell_type": "code",
   "execution_count": 22,
   "metadata": {},
   "outputs": [
    {
     "name": "stdout",
     "output_type": "stream",
     "text": [
      "[0, 3, 13, 10, 3, 0, 0, 0, 0, 1, 3, 8, 14, 2, 0, 0, 0, 0, 1, 7, 16, 8, 4, 0, 8, 12, 14, 12, 10, 10, 14, 7, 9, 7, 3, 0, 0, 0, 13, 7, 0, 0, 0, 0, 1, 11, 11, 0, 0, 0, 3, 5, 12, 11, 1, 0, 0, 1, 12, 12, 6, 0, 0, 0]"
     ]
    }
   ],
   "source": [
    "print(i_3, end='')"
   ]
  },
  {
   "cell_type": "code",
   "execution_count": 23,
   "metadata": {},
   "outputs": [
    {
     "name": "stdout",
     "output_type": "stream",
     "text": [
      "dm is of size (104, 130)\n"
     ]
    }
   ],
   "source": [
    "dm = Image.open( \"P5.png\" )\n",
    "print(\"dm is of size\", im.size)\n",
    "dm_resized = dm.resize( (8,8), Image.BICUBIC )\n",
    "dr = dm_resized"
   ]
  },
  {
   "cell_type": "code",
   "execution_count": 24,
   "metadata": {},
   "outputs": [
    {
     "name": "stdout",
     "output_type": "stream",
     "text": [
      "0,1,7,5,2,0,0,0,0,0,7,10,13,6,0,0,0,0,2,8,16,10,1,0,0,8,13,12,10,10,13,3,0,1,1,0,0,0,13,5,4,5,0,0,1,10,11,0,7,13,4,6,12,10,1,0,1,9,12,10,5,0,0,0,"
     ]
    }
   ],
   "source": [
    "i_4=[]\n",
    "for row in range(8):\n",
    "    for col in range(8):\n",
    "        r, g, b, a = dr.getpixel( (col,row) )\n",
    "        r = (256-r)//16\n",
    "        pixstring = \"{0:3d} \".format(r)  # cool Python formatting!\n",
    "        i_4=i_4+[r]\n",
    "        print( r, end=\",\")\n",
    "#     print()   # if you want to see the 64 values as an 8x8 array "
   ]
  },
  {
   "cell_type": "code",
   "execution_count": 25,
   "metadata": {},
   "outputs": [
    {
     "name": "stdout",
     "output_type": "stream",
     "text": [
      "[0, 1, 7, 5, 2, 0, 0, 0, 0, 0, 7, 10, 13, 6, 0, 0, 0, 0, 2, 8, 16, 10, 1, 0, 0, 8, 13, 12, 10, 10, 13, 3, 0, 1, 1, 0, 0, 0, 13, 5, 4, 5, 0, 0, 1, 10, 11, 0, 7, 13, 4, 6, 12, 10, 1, 0, 1, 9, 12, 10, 5, 0, 0, 0]"
     ]
    }
   ],
   "source": [
    "print(i_4, end='')"
   ]
  },
  {
   "cell_type": "code",
   "execution_count": 26,
   "metadata": {},
   "outputs": [
    {
     "name": "stdout",
     "output_type": "stream",
     "text": [
      "em is of size (104, 130)\n"
     ]
    }
   ],
   "source": [
    "em = Image.open( \"P6.png\" )\n",
    "print(\"em is of size\", im.size)\n",
    "em_resized = em.resize( (8,8), Image.BICUBIC )\n",
    "er = em_resized"
   ]
  },
  {
   "cell_type": "code",
   "execution_count": 27,
   "metadata": {},
   "outputs": [
    {
     "name": "stdout",
     "output_type": "stream",
     "text": [
      "0,0,7,13,6,0,0,0,0,0,1,5,12,9,0,0,0,0,2,3,11,13,0,0,3,12,14,13,12,13,10,1,1,4,2,1,0,3,15,3,0,0,0,0,3,12,10,0,0,2,5,10,13,7,0,0,4,13,12,7,2,0,0,0,"
     ]
    }
   ],
   "source": [
    "i_5=[]\n",
    "for row in range(8):\n",
    "    for col in range(8):\n",
    "        r, g, b, a = er.getpixel( (col,row) )\n",
    "        r = (256-r)//16\n",
    "        pixstring = \"{0:3d} \".format(r)  # cool Python formatting!\n",
    "        i_5=i_5+[r]\n",
    "        print( r, end=\",\")\n",
    "#     print()   # if you want to see the 64 values as an 8x8 array "
   ]
  },
  {
   "cell_type": "code",
   "execution_count": 28,
   "metadata": {},
   "outputs": [
    {
     "name": "stdout",
     "output_type": "stream",
     "text": [
      "[0, 0, 7, 13, 6, 0, 0, 0, 0, 0, 1, 5, 12, 9, 0, 0, 0, 0, 2, 3, 11, 13, 0, 0, 3, 12, 14, 13, 12, 13, 10, 1, 1, 4, 2, 1, 0, 3, 15, 3, 0, 0, 0, 0, 3, 12, 10, 0, 0, 2, 5, 10, 13, 7, 0, 0, 4, 13, 12, 7, 2, 0, 0, 0]"
     ]
    }
   ],
   "source": [
    "print(i_5, end='')"
   ]
  },
  {
   "cell_type": "code",
   "execution_count": 29,
   "metadata": {},
   "outputs": [
    {
     "name": "stdout",
     "output_type": "stream",
     "text": [
      "fm is of size (104, 130)\n"
     ]
    }
   ],
   "source": [
    "fm = Image.open( \"P7.png\" )\n",
    "print(\"fm is of size\", im.size)\n",
    "fm_resized = fm.resize( (8,8), Image.BICUBIC )\n",
    "fr = fm_resized"
   ]
  },
  {
   "cell_type": "code",
   "execution_count": 30,
   "metadata": {},
   "outputs": [
    {
     "name": "stdout",
     "output_type": "stream",
     "text": [
      "0,6,12,11,8,3,0,0,0,1,2,3,8,14,2,0,0,0,1,5,12,11,2,0,1,10,12,12,12,10,12,6,1,4,2,0,0,0,11,10,0,0,0,0,0,5,14,3,0,1,1,1,6,14,5,0,0,3,12,12,12,3,0,0,"
     ]
    }
   ],
   "source": [
    "i_6=[]\n",
    "for row in range(8):\n",
    "    for col in range(8):\n",
    "        r, g, b, a = fr.getpixel( (col,row) )\n",
    "        r = (256-r)//16\n",
    "        pixstring = \"{0:3d} \".format(r)  # cool Python formatting!\n",
    "        i_6=i_6+[r]\n",
    "        print( r, end=\",\")\n",
    "#     print()   # if you want to see the 64 values as an 8x8 array "
   ]
  },
  {
   "cell_type": "code",
   "execution_count": 31,
   "metadata": {},
   "outputs": [
    {
     "name": "stdout",
     "output_type": "stream",
     "text": [
      "[0, 6, 12, 11, 8, 3, 0, 0, 0, 1, 2, 3, 8, 14, 2, 0, 0, 0, 1, 5, 12, 11, 2, 0, 1, 10, 12, 12, 12, 10, 12, 6, 1, 4, 2, 0, 0, 0, 11, 10, 0, 0, 0, 0, 0, 5, 14, 3, 0, 1, 1, 1, 6, 14, 5, 0, 0, 3, 12, 12, 12, 3, 0, 0]"
     ]
    }
   ],
   "source": [
    "print(i_6, end='')"
   ]
  },
  {
   "cell_type": "code",
   "execution_count": 32,
   "metadata": {},
   "outputs": [
    {
     "name": "stdout",
     "output_type": "stream",
     "text": [
      "hm is of size (104, 130)\n"
     ]
    }
   ],
   "source": [
    "hm = Image.open( \"P8.png\" )\n",
    "print(\"hm is of size\", im.size)\n",
    "hm_resized = hm.resize( (8,8), Image.BICUBIC )\n",
    "hr = hm_resized"
   ]
  },
  {
   "cell_type": "code",
   "execution_count": 33,
   "metadata": {},
   "outputs": [
    {
     "name": "stdout",
     "output_type": "stream",
     "text": [
      "0,0,9,13,9,2,0,0,0,0,1,2,7,13,2,0,0,0,1,4,10,15,5,0,0,8,12,11,10,8,13,5,0,3,2,0,0,3,13,3,0,0,0,0,4,13,5,0,0,1,3,9,12,4,0,0,0,7,11,7,1,0,0,0,"
     ]
    }
   ],
   "source": [
    "i_7=[]\n",
    "\n",
    "for row in range(8):\n",
    "    for col in range(8):\n",
    "        r, g, b, a = hr.getpixel( (col,row) )\n",
    "        r = (256-r)//16\n",
    "        pixstring = \"{0:3d} \".format(r)  # cool Python formatting!\n",
    "        i_7=i_7+[r]\n",
    "        print( r, end=\",\")\n",
    "#     print()   # if you want to see the 64 values as an 8x8 array "
   ]
  },
  {
   "cell_type": "code",
   "execution_count": 34,
   "metadata": {},
   "outputs": [
    {
     "name": "stdout",
     "output_type": "stream",
     "text": [
      "[0, 0, 9, 13, 9, 2, 0, 0, 0, 0, 1, 2, 7, 13, 2, 0, 0, 0, 1, 4, 10, 15, 5, 0, 0, 8, 12, 11, 10, 8, 13, 5, 0, 3, 2, 0, 0, 3, 13, 3, 0, 0, 0, 0, 4, 13, 5, 0, 0, 1, 3, 9, 12, 4, 0, 0, 0, 7, 11, 7, 1, 0, 0, 0]"
     ]
    }
   ],
   "source": [
    "print(i_7, end='')"
   ]
  },
  {
   "cell_type": "code",
   "execution_count": 35,
   "metadata": {},
   "outputs": [
    {
     "name": "stdout",
     "output_type": "stream",
     "text": [
      "jm is of size (104, 130)\n"
     ]
    }
   ],
   "source": [
    "jm = Image.open( \"P9.png\" )\n",
    "print(\"jm is of size\", im.size)\n",
    "jm_resized = jm.resize( (8,8), Image.BICUBIC )\n",
    "jr = jm_resized"
   ]
  },
  {
   "cell_type": "code",
   "execution_count": 36,
   "metadata": {},
   "outputs": [
    {
     "name": "stdout",
     "output_type": "stream",
     "text": [
      "0,0,1,12,7,0,0,0,0,0,0,5,11,11,1,0,0,0,0,1,9,12,1,0,0,7,11,14,16,11,4,0,0,5,5,4,3,6,14,2,0,0,0,0,0,7,12,1,1,9,4,2,9,13,3,0,0,7,13,13,9,1,0,0,"
     ]
    }
   ],
   "source": [
    "i_8=[]\n",
    "for row in range(8):\n",
    "    for col in range(8):\n",
    "        r, g, b, a = jr.getpixel( (col,row) )\n",
    "        r = (256-r)//16\n",
    "        pixstring = \"{0:3d} \".format(r)  # cool Python formatting!\n",
    "        i_8=i_8+[r]\n",
    "        print( r, end=\",\")\n",
    "#     print()   # if you want to see the 64 values as an 8x8 array "
   ]
  },
  {
   "cell_type": "code",
   "execution_count": 37,
   "metadata": {},
   "outputs": [
    {
     "name": "stdout",
     "output_type": "stream",
     "text": [
      "[0, 0, 1, 12, 7, 0, 0, 0, 0, 0, 0, 5, 11, 11, 1, 0, 0, 0, 0, 1, 9, 12, 1, 0, 0, 7, 11, 14, 16, 11, 4, 0, 0, 5, 5, 4, 3, 6, 14, 2, 0, 0, 0, 0, 0, 7, 12, 1, 1, 9, 4, 2, 9, 13, 3, 0, 0, 7, 13, 13, 9, 1, 0, 0]"
     ]
    }
   ],
   "source": [
    "print(i_8, end='')"
   ]
  },
  {
   "cell_type": "code",
   "execution_count": 38,
   "metadata": {},
   "outputs": [
    {
     "name": "stdout",
     "output_type": "stream",
     "text": [
      "km is of size (104, 130)\n"
     ]
    }
   ],
   "source": [
    "km = Image.open( \"P10.png\" )\n",
    "print(\"km is of size\", im.size)\n",
    "km_resized = km.resize( (8,8), Image.BICUBIC )\n",
    "kr = km_resized"
   ]
  },
  {
   "cell_type": "code",
   "execution_count": 39,
   "metadata": {},
   "outputs": [
    {
     "name": "stdout",
     "output_type": "stream",
     "text": [
      "0,3,6,6,5,6,6,1,0,3,2,0,0,0,8,3,0,0,0,0,3,7,3,0,0,2,4,8,9,6,5,1,1,4,3,1,0,0,4,8,0,0,0,0,0,0,6,6,1,0,0,0,2,5,6,0,5,6,5,6,5,2,0,0,"
     ]
    }
   ],
   "source": [
    "i_9=[]\n",
    "for row in range(8):\n",
    "    for col in range(8):\n",
    "        r, g, b, a = kr.getpixel( (col,row) )\n",
    "        r = (256-r)//16\n",
    "        pixstring = \"{0:3d} \".format(r)  # cool Python formatting!\n",
    "        i_9=i_9+[r]\n",
    "        print( r, end=\",\")\n",
    "#     print()   # if you want to see the 64 values as an 8x8 array "
   ]
  },
  {
   "cell_type": "code",
   "execution_count": 40,
   "metadata": {},
   "outputs": [
    {
     "name": "stdout",
     "output_type": "stream",
     "text": [
      "[0, 3, 6, 6, 5, 6, 6, 1, 0, 3, 2, 0, 0, 0, 8, 3, 0, 0, 0, 0, 3, 7, 3, 0, 0, 2, 4, 8, 9, 6, 5, 1, 1, 4, 3, 1, 0, 0, 4, 8, 0, 0, 0, 0, 0, 0, 6, 6, 1, 0, 0, 0, 2, 5, 6, 0, 5, 6, 5, 6, 5, 2, 0, 0]"
     ]
    }
   ],
   "source": [
    "print(i_9, end='')"
   ]
  },
  {
   "cell_type": "code",
   "execution_count": 41,
   "metadata": {},
   "outputs": [],
   "source": [
    "def call_image3():\n",
    "    return [i_0,i_1,i_2,i_3,i_4,i_5,i_6,i_7,i_8,i_9]"
   ]
  },
  {
   "cell_type": "code",
   "execution_count": 42,
   "metadata": {
    "scrolled": true
   },
   "outputs": [
    {
     "name": "stdout",
     "output_type": "stream",
     "text": [
      "[[0, 3, 8, 10, 10, 9, 2, 0, 0, 9, 8, 4, 3, 9, 11, 0, 0, 0, 0, 0, 2, 11, 6, 0, 0, 3, 6, 9, 14, 14, 6, 0, 0, 5, 8, 5, 3, 3, 12, 5, 0, 0, 0, 0, 0, 0, 10, 8, 2, 8, 3, 3, 5, 9, 11, 2, 1, 8, 11, 11, 9, 6, 1, 0], [0, 2, 9, 10, 10, 7, 1, 0, 0, 1, 6, 4, 5, 15, 4, 0, 0, 0, 0, 2, 11, 11, 1, 0, 0, 2, 10, 14, 14, 11, 12, 4, 0, 1, 5, 2, 1, 1, 13, 6, 0, 0, 0, 0, 1, 11, 10, 0, 5, 6, 3, 7, 12, 8, 0, 0, 4, 11, 11, 8, 3, 0, 0, 0], [0, 0, 2, 11, 6, 0, 0, 0, 0, 0, 1, 6, 14, 5, 0, 0, 0, 0, 0, 2, 13, 5, 0, 0, 1, 8, 10, 15, 16, 11, 7, 1, 2, 10, 8, 5, 5, 6, 14, 5, 0, 0, 0, 0, 0, 6, 13, 2, 0, 3, 5, 4, 11, 13, 3, 0, 0, 3, 13, 13, 8, 1, 0, 0], [0, 3, 13, 10, 3, 0, 0, 0, 0, 1, 3, 8, 14, 2, 0, 0, 0, 0, 1, 7, 16, 8, 4, 0, 8, 12, 14, 12, 10, 10, 14, 7, 9, 7, 3, 0, 0, 0, 13, 7, 0, 0, 0, 0, 1, 11, 11, 0, 0, 0, 3, 5, 12, 11, 1, 0, 0, 1, 12, 12, 6, 0, 0, 0], [0, 1, 7, 5, 2, 0, 0, 0, 0, 0, 7, 10, 13, 6, 0, 0, 0, 0, 2, 8, 16, 10, 1, 0, 0, 8, 13, 12, 10, 10, 13, 3, 0, 1, 1, 0, 0, 0, 13, 5, 4, 5, 0, 0, 1, 10, 11, 0, 7, 13, 4, 6, 12, 10, 1, 0, 1, 9, 12, 10, 5, 0, 0, 0], [0, 0, 7, 13, 6, 0, 0, 0, 0, 0, 1, 5, 12, 9, 0, 0, 0, 0, 2, 3, 11, 13, 0, 0, 3, 12, 14, 13, 12, 13, 10, 1, 1, 4, 2, 1, 0, 3, 15, 3, 0, 0, 0, 0, 3, 12, 10, 0, 0, 2, 5, 10, 13, 7, 0, 0, 4, 13, 12, 7, 2, 0, 0, 0], [0, 6, 12, 11, 8, 3, 0, 0, 0, 1, 2, 3, 8, 14, 2, 0, 0, 0, 1, 5, 12, 11, 2, 0, 1, 10, 12, 12, 12, 10, 12, 6, 1, 4, 2, 0, 0, 0, 11, 10, 0, 0, 0, 0, 0, 5, 14, 3, 0, 1, 1, 1, 6, 14, 5, 0, 0, 3, 12, 12, 12, 3, 0, 0], [0, 0, 9, 13, 9, 2, 0, 0, 0, 0, 1, 2, 7, 13, 2, 0, 0, 0, 1, 4, 10, 15, 5, 0, 0, 8, 12, 11, 10, 8, 13, 5, 0, 3, 2, 0, 0, 3, 13, 3, 0, 0, 0, 0, 4, 13, 5, 0, 0, 1, 3, 9, 12, 4, 0, 0, 0, 7, 11, 7, 1, 0, 0, 0], [0, 0, 1, 12, 7, 0, 0, 0, 0, 0, 0, 5, 11, 11, 1, 0, 0, 0, 0, 1, 9, 12, 1, 0, 0, 7, 11, 14, 16, 11, 4, 0, 0, 5, 5, 4, 3, 6, 14, 2, 0, 0, 0, 0, 0, 7, 12, 1, 1, 9, 4, 2, 9, 13, 3, 0, 0, 7, 13, 13, 9, 1, 0, 0], [0, 3, 6, 6, 5, 6, 6, 1, 0, 3, 2, 0, 0, 0, 8, 3, 0, 0, 0, 0, 3, 7, 3, 0, 0, 2, 4, 8, 9, 6, 5, 1, 1, 4, 3, 1, 0, 0, 4, 8, 0, 0, 0, 0, 0, 0, 6, 6, 1, 0, 0, 0, 2, 5, 6, 0, 5, 6, 5, 6, 5, 2, 0, 0]]"
     ]
    }
   ],
   "source": [
    "print(call_image3(),end='')"
   ]
  },
  {
   "cell_type": "code",
   "execution_count": 43,
   "metadata": {},
   "outputs": [
    {
     "data": {
      "text/plain": [
       "[0,\n",
       " 3,\n",
       " 8,\n",
       " 10,\n",
       " 10,\n",
       " 9,\n",
       " 2,\n",
       " 0,\n",
       " 0,\n",
       " 9,\n",
       " 8,\n",
       " 4,\n",
       " 3,\n",
       " 9,\n",
       " 11,\n",
       " 0,\n",
       " 0,\n",
       " 0,\n",
       " 0,\n",
       " 0,\n",
       " 2,\n",
       " 11,\n",
       " 6,\n",
       " 0,\n",
       " 0,\n",
       " 3,\n",
       " 6,\n",
       " 9,\n",
       " 14,\n",
       " 14,\n",
       " 6,\n",
       " 0,\n",
       " 0,\n",
       " 5,\n",
       " 8,\n",
       " 5,\n",
       " 3,\n",
       " 3,\n",
       " 12,\n",
       " 5,\n",
       " 0,\n",
       " 0,\n",
       " 0,\n",
       " 0,\n",
       " 0,\n",
       " 0,\n",
       " 10,\n",
       " 8,\n",
       " 2,\n",
       " 8,\n",
       " 3,\n",
       " 3,\n",
       " 5,\n",
       " 9,\n",
       " 11,\n",
       " 2,\n",
       " 1,\n",
       " 8,\n",
       " 11,\n",
       " 11,\n",
       " 9,\n",
       " 6,\n",
       " 1,\n",
       " 0]"
      ]
     },
     "execution_count": 43,
     "metadata": {},
     "output_type": "execute_result"
    }
   ],
   "source": [
    "call_image3()[0]"
   ]
  },
  {
   "cell_type": "code",
   "execution_count": null,
   "metadata": {},
   "outputs": [],
   "source": []
  }
 ],
 "metadata": {
  "kernelspec": {
   "display_name": "Python 3",
   "language": "python",
   "name": "python3"
  },
  "language_info": {
   "codemirror_mode": {
    "name": "ipython",
    "version": 3
   },
   "file_extension": ".py",
   "mimetype": "text/x-python",
   "name": "python",
   "nbconvert_exporter": "python",
   "pygments_lexer": "ipython3",
   "version": "3.7.4"
  }
 },
 "nbformat": 4,
 "nbformat_minor": 2
}
