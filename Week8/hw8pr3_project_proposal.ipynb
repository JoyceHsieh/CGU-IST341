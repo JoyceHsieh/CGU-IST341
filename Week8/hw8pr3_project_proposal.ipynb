{
 "cells": [
  {
   "cell_type": "code",
   "execution_count": 1,
   "metadata": {},
   "outputs": [],
   "source": [
    "#\n",
    "# hw8pr3.ipynb ~ cs35/cs181 spring 2021\n",
    "#"
   ]
  },
  {
   "cell_type": "code",
   "execution_count": 2,
   "metadata": {},
   "outputs": [],
   "source": [
    "#\n",
    "# Feel free to use this notebook for your project proposal  (pdf + plain text are also ok!)\n",
    "#\n",
    "#     The notebook is nice for markdown (and for trying things out!)\n",
    "\n",
    "# Details!   https://docs.google.com/document/d/1XMVH0yHaBRVneMc4R0daA5qYgSgzl9ppDkI1qBPJ77s/edit\n",
    "\n",
    "#\n",
    "# plain-text in the notebook is always welcome :-)   or...\n",
    "# "
   ]
  },
  {
   "cell_type": "markdown",
   "metadata": {},
   "source": [
    "## Markdown, if you'd like...\n",
    "\n",
    "Markdown is entirely welcome!  Here, roughly, are the sections:\n",
    "\n",
    "#### Project idea/task and background\n",
    "\n",
    "#### Resources/libraries/walkthroughs you've found\n",
    "\n",
    "#### One or more datasets (perhaps)\n",
    "\n",
    "#### Initial tasks/place to start\n",
    "\n",
    "#### How you'd like to go beyond the resources available... "
   ]
  },
  {
   "cell_type": "code",
   "execution_count": null,
   "metadata": {},
   "outputs": [],
   "source": [
    "#\n",
    "# are there things you've tried?\n",
    "#\n",
    "\n",
    "#\n",
    "# for the proposal, this is mostly looking for promising resources\n",
    "#      however, you should definitely try them out... to see if they look like they will love up to that promise...\n",
    "# "
   ]
  }
 ],
 "metadata": {
  "kernelspec": {
   "display_name": "Python 3",
   "language": "python",
   "name": "python3"
  },
  "language_info": {
   "codemirror_mode": {
    "name": "ipython",
    "version": 3
   },
   "file_extension": ".py",
   "mimetype": "text/x-python",
   "name": "python",
   "nbconvert_exporter": "python",
   "pygments_lexer": "ipython3",
   "version": "3.7.6"
  }
 },
 "nbformat": 4,
 "nbformat_minor": 2
}
