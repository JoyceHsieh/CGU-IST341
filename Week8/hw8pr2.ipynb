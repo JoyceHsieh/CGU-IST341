{
 "cells": [
  {
   "cell_type": "code",
   "execution_count": null,
   "metadata": {},
   "outputs": [],
   "source": [
    "#\n",
    "# hw8pr2.ipynb ~ cs35/cs181 spring 2021\n",
    "#"
   ]
  },
  {
   "cell_type": "code",
   "execution_count": null,
   "metadata": {},
   "outputs": [],
   "source": [
    "#\n",
    "# libraries we have...\n",
    "#\n",
    "import numpy as np\n",
    "from matplotlib import pyplot as plt\n",
    "# import seaborn as sns\n",
    "# sns.set(style=\"darkgrid\")"
   ]
  },
  {
   "cell_type": "code",
   "execution_count": null,
   "metadata": {},
   "outputs": [],
   "source": [
    "# \n",
    "# the opencv library...\n",
    "#\n",
    "import cv2"
   ]
  },
  {
   "cell_type": "code",
   "execution_count": null,
   "metadata": {},
   "outputs": [],
   "source": [
    "%matplotlib notebook \n",
    "\n",
    "#\n",
    "# let's capture this open-and-convert-to-rgb into a function\n",
    "#\n",
    "def opencv_open_into_rgb( image_file_name ):\n",
    "    \"\"\" open image_file_name and convert to rgb \"\"\"\n",
    "    image_raw = cv2.imread(image_file_name, cv2.IMREAD_COLOR)  # reads into BGR\n",
    "    orig_num_rows, orig_num_cols, _ = image_raw.shape          # cool underscore variable!\n",
    "    num_rows, num_cols, _ = image_raw.shape\n",
    "    print(f\"image with name {image_file_name} read with dimensions: {image_raw.shape}\")\n",
    "    #\n",
    "    # let's resize as long as any dimension is > 840...\n",
    "    #\n",
    "    maxdim = max(num_rows,num_cols)\n",
    "    while maxdim > 840:\n",
    "        num_rows = num_rows//2  # halve!\n",
    "        num_cols = num_cols//2  # halve!\n",
    "        maxdim = max(num_rows,num_cols) # try again...\n",
    "        \n",
    "    if orig_num_rows != num_rows: # did we resize?\n",
    "        print(f\"resizing to rows, cols = {num_rows}, {num_cols}\")\n",
    "        image_raw = cv2.resize(image_raw, dsize=(num_cols,num_rows), interpolation=cv2.INTER_LINEAR)  # resizing\n",
    "        \n",
    "    # now, convert to rgb\n",
    "    image_rgb = cv2.cvtColor(image_raw, cv2.COLOR_BGR2RGB)     # convert from BGR to RGB\n",
    "    return image_rgb\n",
    "\n",
    "image_rgb = opencv_open_into_rgb(\"flag.png\")  # ONLY use pngs for this problem!\n",
    "\n",
    "#\n",
    "# let's show off how to create multiple images in one figure, too\n",
    "#\n",
    "fig, ax = plt.subplots(2,2)  # this means ax will be a 2x2 numpy array of axes!\n",
    "ax[0,0].imshow(image_rgb)\n",
    "ax[0,1].imshow(image_rgb)\n",
    "ax[1,0].imshow(image_rgb)\n",
    "ax[1,1].imshow(image_rgb)"
   ]
  },
  {
   "cell_type": "code",
   "execution_count": null,
   "metadata": {},
   "outputs": [],
   "source": [
    "#\n",
    "# nice to be able to save to a file...    and not worry about its BGR-ness\n",
    "#\n",
    "\n",
    "def save_rgb_image( image_rgb, new_file_name ):\n",
    "    \"\"\" saves the image  image_rgb  to the (string) name, new_file_name\n",
    "        add the extension you'd like, png, jpg, ... it knows many (not all)\n",
    "    \"\"\"\n",
    "    image_bgr = cv2.cvtColor(image_rgb, cv2.COLOR_RGB2BGR)     # convert from BGR to RGB\n",
    "    result = cv2.imwrite(new_file_name,image_bgr)\n",
    "    if result == True:\n",
    "        print(f\"image_rgb was saved to {new_file_name}\")\n",
    "    else:\n",
    "        print(f\"there was a problem saving image_rgb to {new_file_name}\")\n",
    "    \n",
    "#\n",
    "# try it!\n",
    "#\n",
    "save_rgb_image( image_rgb, \"new_image.png\" )  # it needs the extension"
   ]
  },
  {
   "cell_type": "code",
   "execution_count": null,
   "metadata": {},
   "outputs": [],
   "source": [
    "#\n",
    "# ok!  let's look at the \"bits\" of our images... now, the bits themselves!\n",
    "#"
   ]
  },
  {
   "cell_type": "code",
   "execution_count": null,
   "metadata": {},
   "outputs": [],
   "source": [
    "#\n",
    "# let's bring back two cs5 functions!\n",
    "#\n",
    "\n",
    "def bin2num(s):\n",
    "    \"\"\" convert from binary (a string, s) to a base-10 int, the number n \"\"\"\n",
    "    if s == '': return 0\n",
    "    return 2*bin2num(s[:-1]) + int(s[-1])\n",
    "\n",
    "def num2bin(n):\n",
    "    \"\"\" convert from a number (an int n) to a string in binary, s \"\"\"\n",
    "    if n == 0: return ''\n",
    "    return num2bin(n//2) + str(n%2)\n",
    "\n",
    "print(f\"42 in binary is {num2bin(42)}\")\n",
    "print(f\"'101010' as a decimal number is {bin2num('101010')}\")\n",
    "print(f\"chr(42) is {chr(42)}\")"
   ]
  },
  {
   "cell_type": "code",
   "execution_count": null,
   "metadata": {},
   "outputs": [],
   "source": [
    "#\n",
    "# let's view at the first few pixels of image_rgb...\n",
    "#       we'll march in \"English-reading\" order (across the 0th row first, then to the next row)\n",
    "#       also, remember that each pixel has an r, g, and b value!\n",
    "\n",
    "for row in range(0,1):\n",
    "    for col in range(0,3):\n",
    "        print(f\"pixel at {row},{col} is {image_rgb[row,col,:]}\")\n",
    "        for value in image_rgb[row,col,:]:\n",
    "            print(f\"   value: {value} is the bits: {num2bin(value)}\")"
   ]
  },
  {
   "cell_type": "code",
   "execution_count": null,
   "metadata": {},
   "outputs": [],
   "source": [
    "#\n",
    "# your task... \n",
    "# \n",
    "\n",
    "# is to create\n",
    "\n",
    "# desteganographize( image_rgb )    \n",
    "\n",
    "# and\n",
    "\n",
    "# steganographize( image_rgb, message )\n",
    "\n",
    "# and show them off!  (See the assignment description for details on this... .)"
   ]
  }
 ],
 "metadata": {
  "kernelspec": {
   "display_name": "Python 3",
   "language": "python",
   "name": "python3"
  },
  "language_info": {
   "codemirror_mode": {
    "name": "ipython",
    "version": 3
   },
   "file_extension": ".py",
   "mimetype": "text/x-python",
   "name": "python",
   "nbconvert_exporter": "python",
   "pygments_lexer": "ipython3",
   "version": "3.7.6"
  }
 },
 "nbformat": 4,
 "nbformat_minor": 2
}
